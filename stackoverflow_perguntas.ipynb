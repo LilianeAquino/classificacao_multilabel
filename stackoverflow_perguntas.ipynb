{
 "cells": [
  {
   "cell_type": "markdown",
   "metadata": {},
   "source": [
    "# Tagueando perguntas do Stackoverflow"
   ]
  },
  {
   "cell_type": "markdown",
   "metadata": {},
   "source": [
    "### Bibliotecas básicas"
   ]
  },
  {
   "cell_type": "code",
   "execution_count": 24,
   "metadata": {
    "ExecuteTime": {
     "end_time": "2021-02-05T12:38:22.458924Z",
     "start_time": "2021-02-05T12:38:22.450609Z"
    }
   },
   "outputs": [],
   "source": [
    "import pandas as pd\n",
    "import numpy as np"
   ]
  },
  {
   "cell_type": "markdown",
   "metadata": {},
   "source": [
    "### Bibliotecas de visualização"
   ]
  },
  {
   "cell_type": "code",
   "execution_count": 25,
   "metadata": {
    "ExecuteTime": {
     "end_time": "2021-02-05T12:38:22.851847Z",
     "start_time": "2021-02-05T12:38:22.467512Z"
    }
   },
   "outputs": [],
   "source": [
    "import matplotlib\n",
    "import seaborn as sns\n",
    "import matplotlib.pyplot as plt\n",
    "\n",
    "%matplotlib inline"
   ]
  },
  {
   "cell_type": "markdown",
   "metadata": {},
   "source": [
    "### Carregamento dos dados"
   ]
  },
  {
   "cell_type": "code",
   "execution_count": 26,
   "metadata": {
    "ExecuteTime": {
     "end_time": "2021-02-05T12:38:23.307029Z",
     "start_time": "2021-02-05T12:38:22.855633Z"
    }
   },
   "outputs": [
    {
     "data": {
      "text/html": [
       "<div>\n",
       "<style scoped>\n",
       "    .dataframe tbody tr th:only-of-type {\n",
       "        vertical-align: middle;\n",
       "    }\n",
       "\n",
       "    .dataframe tbody tr th {\n",
       "        vertical-align: top;\n",
       "    }\n",
       "\n",
       "    .dataframe thead th {\n",
       "        text-align: right;\n",
       "    }\n",
       "</style>\n",
       "<table border=\"1\" class=\"dataframe\">\n",
       "  <thead>\n",
       "    <tr style=\"text-align: right;\">\n",
       "      <th></th>\n",
       "      <th>Perguntas</th>\n",
       "      <th>Tags</th>\n",
       "    </tr>\n",
       "  </thead>\n",
       "  <tbody>\n",
       "    <tr>\n",
       "      <th>0</th>\n",
       "      <td>Possuo um projeto Node.js porém preciso criar ...</td>\n",
       "      <td>node.js</td>\n",
       "    </tr>\n",
       "    <tr>\n",
       "      <th>1</th>\n",
       "      <td>Gostaria de fazer testes unitários no Node.js,...</td>\n",
       "      <td>node.js</td>\n",
       "    </tr>\n",
       "    <tr>\n",
       "      <th>2</th>\n",
       "      <td>Como inverter a ordem com que o jQuery itera u...</td>\n",
       "      <td>jquery</td>\n",
       "    </tr>\n",
       "    <tr>\n",
       "      <th>3</th>\n",
       "      <td>Eu tenho uma página onde pretendo utilizar um ...</td>\n",
       "      <td>html</td>\n",
       "    </tr>\n",
       "    <tr>\n",
       "      <th>4</th>\n",
       "      <td>Como exibir os dados retornados do FireStore e...</td>\n",
       "      <td>html angular</td>\n",
       "    </tr>\n",
       "  </tbody>\n",
       "</table>\n",
       "</div>"
      ],
      "text/plain": [
       "                                           Perguntas           Tags\n",
       "0  Possuo um projeto Node.js porém preciso criar ...        node.js\n",
       "1  Gostaria de fazer testes unitários no Node.js,...        node.js\n",
       "2  Como inverter a ordem com que o jQuery itera u...         jquery\n",
       "3  Eu tenho uma página onde pretendo utilizar um ...           html\n",
       "4  Como exibir os dados retornados do FireStore e...  html angular "
      ]
     },
     "execution_count": 26,
     "metadata": {},
     "output_type": "execute_result"
    }
   ],
   "source": [
    "perguntas = pd.read_csv('datasets/stackoverflow_perguntas.csv')\n",
    "perguntas.head()"
   ]
  },
  {
   "cell_type": "code",
   "execution_count": 27,
   "metadata": {
    "ExecuteTime": {
     "end_time": "2021-02-05T12:38:23.685339Z",
     "start_time": "2021-02-05T12:38:23.309789Z"
    }
   },
   "outputs": [
    {
     "name": "stdout",
     "output_type": "stream",
     "text": [
      "Linhas: 5408 | Colunas: 2\n"
     ]
    }
   ],
   "source": [
    "print(f'Linhas: {perguntas.shape[0]} | Colunas: {perguntas.shape[1]}')"
   ]
  },
  {
   "cell_type": "markdown",
   "metadata": {
    "heading_collapsed": true
   },
   "source": [
    "### Informações dos dados"
   ]
  },
  {
   "cell_type": "code",
   "execution_count": 28,
   "metadata": {
    "ExecuteTime": {
     "end_time": "2021-02-05T12:38:24.035406Z",
     "start_time": "2021-02-05T12:38:23.689372Z"
    },
    "hidden": true
   },
   "outputs": [
    {
     "name": "stdout",
     "output_type": "stream",
     "text": [
      "<class 'pandas.core.frame.DataFrame'>\n",
      "RangeIndex: 5408 entries, 0 to 5407\n",
      "Data columns (total 2 columns):\n",
      " #   Column     Non-Null Count  Dtype \n",
      "---  ------     --------------  ----- \n",
      " 0   Perguntas  5408 non-null   object\n",
      " 1   Tags       5408 non-null   object\n",
      "dtypes: object(2)\n",
      "memory usage: 84.6+ KB\n"
     ]
    }
   ],
   "source": [
    "perguntas.info()"
   ]
  },
  {
   "cell_type": "markdown",
   "metadata": {
    "heading_collapsed": true
   },
   "source": [
    "### Removendo os espaços das Tags"
   ]
  },
  {
   "cell_type": "code",
   "execution_count": 29,
   "metadata": {
    "ExecuteTime": {
     "end_time": "2021-02-05T12:38:24.312442Z",
     "start_time": "2021-02-05T12:38:24.050329Z"
    },
    "hidden": true
   },
   "outputs": [],
   "source": [
    "perguntas['Tags'] = perguntas['Tags'].apply(lambda x : x.strip())"
   ]
  },
  {
   "cell_type": "markdown",
   "metadata": {},
   "source": [
    "### Lista das tags"
   ]
  },
  {
   "cell_type": "code",
   "execution_count": 30,
   "metadata": {
    "ExecuteTime": {
     "end_time": "2021-02-05T12:38:24.631050Z",
     "start_time": "2021-02-05T12:38:24.324496Z"
    }
   },
   "outputs": [
    {
     "name": "stdout",
     "output_type": "stream",
     "text": [
      "17\n"
     ]
    },
    {
     "data": {
      "text/plain": [
       "array(['node.js', 'jquery', 'html', 'html angular', 'angular',\n",
       "       'jquery html', 'angular node.js', 'jquery html angular',\n",
       "       'html jquery', 'jquery angular', 'html node.js', 'jquery node.js',\n",
       "       'node.js html', 'angular html', 'html angular  node.js',\n",
       "       'jquery html node.js', 'html angular node.js'], dtype=object)"
      ]
     },
     "execution_count": 30,
     "metadata": {},
     "output_type": "execute_result"
    }
   ],
   "source": [
    "print(len(perguntas['Tags'].unique()))\n",
    "perguntas['Tags'].unique()"
   ]
  },
  {
   "cell_type": "markdown",
   "metadata": {},
   "source": [
    "#### Pegando as tags únicas"
   ]
  },
  {
   "cell_type": "code",
   "execution_count": 31,
   "metadata": {
    "ExecuteTime": {
     "end_time": "2021-02-05T12:38:24.890170Z",
     "start_time": "2021-02-05T12:38:24.635969Z"
    }
   },
   "outputs": [
    {
     "name": "stdout",
     "output_type": "stream",
     "text": [
      "['node.js', 'jquery', 'html', 'angular']\n"
     ]
    }
   ],
   "source": [
    "label = list()\n",
    "for tags in perguntas['Tags'].unique():\n",
    "    for tag in tags.split():\n",
    "        if tag not in label:\n",
    "            label.append(tag)\n",
    "print(label)"
   ]
  },
  {
   "cell_type": "markdown",
   "metadata": {},
   "source": [
    "### Transformando labels em colunas"
   ]
  },
  {
   "cell_type": "code",
   "execution_count": 32,
   "metadata": {
    "ExecuteTime": {
     "end_time": "2021-02-05T12:38:25.261748Z",
     "start_time": "2021-02-05T12:38:24.898959Z"
    }
   },
   "outputs": [],
   "source": [
    "def nova_coluna(lista_tags, dataframe, nome_tags):\n",
    "    for tag in lista_tags:\n",
    "        coluna = list()\n",
    "        for linha_tag in dataframe[nome_tags]:\n",
    "            if tag in linha_tag:\n",
    "                coluna.append(1)\n",
    "            else:\n",
    "                coluna.append(0)\n",
    "        dataframe[tag] = coluna\n",
    "        \n",
    "nova_coluna(label, perguntas, 'Tags')"
   ]
  },
  {
   "cell_type": "code",
   "execution_count": 33,
   "metadata": {
    "ExecuteTime": {
     "end_time": "2021-02-05T12:38:25.624893Z",
     "start_time": "2021-02-05T12:38:25.264453Z"
    }
   },
   "outputs": [
    {
     "data": {
      "text/html": [
       "<div>\n",
       "<style scoped>\n",
       "    .dataframe tbody tr th:only-of-type {\n",
       "        vertical-align: middle;\n",
       "    }\n",
       "\n",
       "    .dataframe tbody tr th {\n",
       "        vertical-align: top;\n",
       "    }\n",
       "\n",
       "    .dataframe thead th {\n",
       "        text-align: right;\n",
       "    }\n",
       "</style>\n",
       "<table border=\"1\" class=\"dataframe\">\n",
       "  <thead>\n",
       "    <tr style=\"text-align: right;\">\n",
       "      <th></th>\n",
       "      <th>Perguntas</th>\n",
       "      <th>Tags</th>\n",
       "      <th>node.js</th>\n",
       "      <th>jquery</th>\n",
       "      <th>html</th>\n",
       "      <th>angular</th>\n",
       "    </tr>\n",
       "  </thead>\n",
       "  <tbody>\n",
       "    <tr>\n",
       "      <th>0</th>\n",
       "      <td>Possuo um projeto Node.js porém preciso criar ...</td>\n",
       "      <td>node.js</td>\n",
       "      <td>1</td>\n",
       "      <td>0</td>\n",
       "      <td>0</td>\n",
       "      <td>0</td>\n",
       "    </tr>\n",
       "    <tr>\n",
       "      <th>1</th>\n",
       "      <td>Gostaria de fazer testes unitários no Node.js,...</td>\n",
       "      <td>node.js</td>\n",
       "      <td>1</td>\n",
       "      <td>0</td>\n",
       "      <td>0</td>\n",
       "      <td>0</td>\n",
       "    </tr>\n",
       "    <tr>\n",
       "      <th>2</th>\n",
       "      <td>Como inverter a ordem com que o jQuery itera u...</td>\n",
       "      <td>jquery</td>\n",
       "      <td>0</td>\n",
       "      <td>1</td>\n",
       "      <td>0</td>\n",
       "      <td>0</td>\n",
       "    </tr>\n",
       "    <tr>\n",
       "      <th>3</th>\n",
       "      <td>Eu tenho uma página onde pretendo utilizar um ...</td>\n",
       "      <td>html</td>\n",
       "      <td>0</td>\n",
       "      <td>0</td>\n",
       "      <td>1</td>\n",
       "      <td>0</td>\n",
       "    </tr>\n",
       "    <tr>\n",
       "      <th>4</th>\n",
       "      <td>Como exibir os dados retornados do FireStore e...</td>\n",
       "      <td>html angular</td>\n",
       "      <td>0</td>\n",
       "      <td>0</td>\n",
       "      <td>1</td>\n",
       "      <td>1</td>\n",
       "    </tr>\n",
       "    <tr>\n",
       "      <th>5</th>\n",
       "      <td>Vi esse vídeo (link abaixo) e gostaria de cons...</td>\n",
       "      <td>html</td>\n",
       "      <td>0</td>\n",
       "      <td>0</td>\n",
       "      <td>1</td>\n",
       "      <td>0</td>\n",
       "    </tr>\n",
       "    <tr>\n",
       "      <th>6</th>\n",
       "      <td>Eu consigo fazer uma requisição de upload de u...</td>\n",
       "      <td>angular</td>\n",
       "      <td>0</td>\n",
       "      <td>0</td>\n",
       "      <td>0</td>\n",
       "      <td>1</td>\n",
       "    </tr>\n",
       "    <tr>\n",
       "      <th>7</th>\n",
       "      <td>Está apresentando o seguinte erro:  'ionic' nã...</td>\n",
       "      <td>node.js</td>\n",
       "      <td>1</td>\n",
       "      <td>0</td>\n",
       "      <td>0</td>\n",
       "      <td>0</td>\n",
       "    </tr>\n",
       "    <tr>\n",
       "      <th>8</th>\n",
       "      <td>Tenho um formulário reativo e eu preciso mostr...</td>\n",
       "      <td>angular</td>\n",
       "      <td>0</td>\n",
       "      <td>0</td>\n",
       "      <td>0</td>\n",
       "      <td>1</td>\n",
       "    </tr>\n",
       "    <tr>\n",
       "      <th>9</th>\n",
       "      <td>Eu estou com esse problema e não faço ideia de...</td>\n",
       "      <td>node.js</td>\n",
       "      <td>1</td>\n",
       "      <td>0</td>\n",
       "      <td>0</td>\n",
       "      <td>0</td>\n",
       "    </tr>\n",
       "  </tbody>\n",
       "</table>\n",
       "</div>"
      ],
      "text/plain": [
       "                                           Perguntas          Tags  node.js  \\\n",
       "0  Possuo um projeto Node.js porém preciso criar ...       node.js        1   \n",
       "1  Gostaria de fazer testes unitários no Node.js,...       node.js        1   \n",
       "2  Como inverter a ordem com que o jQuery itera u...        jquery        0   \n",
       "3  Eu tenho uma página onde pretendo utilizar um ...          html        0   \n",
       "4  Como exibir os dados retornados do FireStore e...  html angular        0   \n",
       "5  Vi esse vídeo (link abaixo) e gostaria de cons...          html        0   \n",
       "6  Eu consigo fazer uma requisição de upload de u...       angular        0   \n",
       "7  Está apresentando o seguinte erro:  'ionic' nã...       node.js        1   \n",
       "8  Tenho um formulário reativo e eu preciso mostr...       angular        0   \n",
       "9  Eu estou com esse problema e não faço ideia de...       node.js        1   \n",
       "\n",
       "   jquery  html  angular  \n",
       "0       0     0        0  \n",
       "1       0     0        0  \n",
       "2       1     0        0  \n",
       "3       0     1        0  \n",
       "4       0     1        1  \n",
       "5       0     1        0  \n",
       "6       0     0        1  \n",
       "7       0     0        0  \n",
       "8       0     0        1  \n",
       "9       0     0        0  "
      ]
     },
     "execution_count": 33,
     "metadata": {},
     "output_type": "execute_result"
    }
   ],
   "source": [
    "perguntas.head(10)"
   ]
  },
  {
   "cell_type": "markdown",
   "metadata": {
    "heading_collapsed": true
   },
   "source": [
    "### Pré-processamento"
   ]
  },
  {
   "cell_type": "code",
   "execution_count": 34,
   "metadata": {
    "ExecuteTime": {
     "end_time": "2021-02-05T12:38:25.865240Z",
     "start_time": "2021-02-05T12:38:25.631774Z"
    },
    "hidden": true
   },
   "outputs": [],
   "source": [
    "import string, re, nltk\n",
    "from bs4 import BeautifulSoup\n",
    "from nltk.corpus import stopwords\n",
    "from unicodedata import normalize\n",
    "\n",
    "stop_words = set(stopwords.words('portuguese'))\n",
    "\n",
    "blankSpacesRegex = re.compile(r'\\s{2,}')\n",
    "punctuationRegex = re.compile(r'[^0-9a-zA-Z +_]')\n",
    "\n",
    "def cleaning(text):\n",
    "    cleanedText = text.lower()\n",
    "    cleanedText = removeHtml(cleanedText)\n",
    "    cleanedText = replaceBlanks(cleanedText)\n",
    "    cleanedText = removeSpecialCharacters(cleanedText)\n",
    "    cleanedText = removeStopwords(cleanedText)\n",
    "    cleanedText = cleanText(cleanedText)    \n",
    "    return cleanedText\n",
    "\n",
    "def removeHtml(text):\n",
    "    soup = BeautifulSoup(text,'html5lib')\n",
    "    text = soup.get_text(strip = True)    \n",
    "    return text\n",
    "\n",
    "def replaceBlanks(text):\n",
    "    text = text.replace(r'\\r',' ')\n",
    "    text = text.replace(r'\\n', ' ')\n",
    "    text = text.replace(r'\\s', ' ')\n",
    "    return text\n",
    "\n",
    "def removeSpecialCharacters(text):\n",
    "    text = normalize('NFKD', text).encode('ASCII', 'ignore').decode('ASCII')\n",
    "    text = punctuationRegex.sub(' ', text)    \n",
    "    return text\n",
    "\n",
    "def removeStopwords(text):\n",
    "    return ' '.join(word for word in text.split() if word not in stop_words)\n",
    "\n",
    "def cleanText(text):\n",
    "    text = blankSpacesRegex.sub(' ', str(text))\n",
    "    text = text.strip()    \n",
    "    return text"
   ]
  },
  {
   "cell_type": "code",
   "execution_count": 35,
   "metadata": {
    "ExecuteTime": {
     "end_time": "2021-02-05T12:38:31.664454Z",
     "start_time": "2021-02-05T12:38:25.871223Z"
    },
    "hidden": true
   },
   "outputs": [
    {
     "data": {
      "text/plain": [
       "'retornando alguns parametros preciso desmembrar parametros salvando duas tabelas segue codigo inicial lamina controller js code lamina service js code laminaresource java code simulacaoservice java code'"
      ]
     },
     "execution_count": 35,
     "metadata": {},
     "output_type": "execute_result"
    }
   ],
   "source": [
    "perguntas['Perguntas'] = perguntas['Perguntas'].apply(cleaning)\n",
    "perguntas['Perguntas'][10]"
   ]
  },
  {
   "cell_type": "markdown",
   "metadata": {},
   "source": [
    "### Divisão dos dados"
   ]
  },
  {
   "cell_type": "code",
   "execution_count": 36,
   "metadata": {
    "ExecuteTime": {
     "end_time": "2021-02-05T12:38:31.697885Z",
     "start_time": "2021-02-05T12:38:31.666729Z"
    }
   },
   "outputs": [
    {
     "data": {
      "text/html": [
       "<div>\n",
       "<style scoped>\n",
       "    .dataframe tbody tr th:only-of-type {\n",
       "        vertical-align: middle;\n",
       "    }\n",
       "\n",
       "    .dataframe tbody tr th {\n",
       "        vertical-align: top;\n",
       "    }\n",
       "\n",
       "    .dataframe thead th {\n",
       "        text-align: right;\n",
       "    }\n",
       "</style>\n",
       "<table border=\"1\" class=\"dataframe\">\n",
       "  <thead>\n",
       "    <tr style=\"text-align: right;\">\n",
       "      <th></th>\n",
       "      <th>Perguntas</th>\n",
       "      <th>Tags</th>\n",
       "      <th>node.js</th>\n",
       "      <th>jquery</th>\n",
       "      <th>html</th>\n",
       "      <th>angular</th>\n",
       "      <th>todas_tags</th>\n",
       "    </tr>\n",
       "  </thead>\n",
       "  <tbody>\n",
       "    <tr>\n",
       "      <th>0</th>\n",
       "      <td>possuo projeto node js porem preciso criar exe...</td>\n",
       "      <td>node.js</td>\n",
       "      <td>1</td>\n",
       "      <td>0</td>\n",
       "      <td>0</td>\n",
       "      <td>0</td>\n",
       "      <td>(1, 0, 0, 0)</td>\n",
       "    </tr>\n",
       "    <tr>\n",
       "      <th>1</th>\n",
       "      <td>gostaria fazer testes unitarios node js utiliz...</td>\n",
       "      <td>node.js</td>\n",
       "      <td>1</td>\n",
       "      <td>0</td>\n",
       "      <td>0</td>\n",
       "      <td>0</td>\n",
       "      <td>(1, 0, 0, 0)</td>\n",
       "    </tr>\n",
       "    <tr>\n",
       "      <th>2</th>\n",
       "      <td>inverter ordem jquery itera array elementos ne...</td>\n",
       "      <td>jquery</td>\n",
       "      <td>0</td>\n",
       "      <td>1</td>\n",
       "      <td>0</td>\n",
       "      <td>0</td>\n",
       "      <td>(0, 1, 0, 0)</td>\n",
       "    </tr>\n",
       "    <tr>\n",
       "      <th>3</th>\n",
       "      <td>pagina onde pretendo utilizar conjunto webwork...</td>\n",
       "      <td>html</td>\n",
       "      <td>0</td>\n",
       "      <td>0</td>\n",
       "      <td>1</td>\n",
       "      <td>0</td>\n",
       "      <td>(0, 0, 1, 0)</td>\n",
       "    </tr>\n",
       "    <tr>\n",
       "      <th>4</th>\n",
       "      <td>exibir dados retornados firestore diretiva ang...</td>\n",
       "      <td>html angular</td>\n",
       "      <td>0</td>\n",
       "      <td>0</td>\n",
       "      <td>1</td>\n",
       "      <td>1</td>\n",
       "      <td>(0, 0, 1, 1)</td>\n",
       "    </tr>\n",
       "  </tbody>\n",
       "</table>\n",
       "</div>"
      ],
      "text/plain": [
       "                                           Perguntas          Tags  node.js  \\\n",
       "0  possuo projeto node js porem preciso criar exe...       node.js        1   \n",
       "1  gostaria fazer testes unitarios node js utiliz...       node.js        1   \n",
       "2  inverter ordem jquery itera array elementos ne...        jquery        0   \n",
       "3  pagina onde pretendo utilizar conjunto webwork...          html        0   \n",
       "4  exibir dados retornados firestore diretiva ang...  html angular        0   \n",
       "\n",
       "   jquery  html  angular    todas_tags  \n",
       "0       0     0        0  (1, 0, 0, 0)  \n",
       "1       0     0        0  (1, 0, 0, 0)  \n",
       "2       1     0        0  (0, 1, 0, 0)  \n",
       "3       0     1        0  (0, 0, 1, 0)  \n",
       "4       0     1        1  (0, 0, 1, 1)  "
      ]
     },
     "execution_count": 36,
     "metadata": {},
     "output_type": "execute_result"
    }
   ],
   "source": [
    "lista_zip_tags = list(zip(perguntas[label[0]], perguntas[label[1]], perguntas[label[2]], perguntas[label[3]]))\n",
    "perguntas['todas_tags'] = lista_zip_tags\n",
    "perguntas.head()"
   ]
  },
  {
   "cell_type": "code",
   "execution_count": 37,
   "metadata": {
    "ExecuteTime": {
     "end_time": "2021-02-05T12:38:32.106726Z",
     "start_time": "2021-02-05T12:38:31.701408Z"
    }
   },
   "outputs": [],
   "source": [
    "from sklearn.model_selection import train_test_split\n",
    "\n",
    "perguntas_treino, perguntas_teste, tags_treino, tags_teste = train_test_split(perguntas['Perguntas'], perguntas['todas_tags'], \n",
    "                                                                              random_state=123, test_size=0.2, shuffle=True)"
   ]
  },
  {
   "cell_type": "code",
   "execution_count": 38,
   "metadata": {
    "ExecuteTime": {
     "end_time": "2021-02-05T12:38:32.521932Z",
     "start_time": "2021-02-05T12:38:32.111301Z"
    }
   },
   "outputs": [
    {
     "name": "stdout",
     "output_type": "stream",
     "text": [
      "[[0 1 0 0]\n",
      " [0 1 0 0]\n",
      " [0 0 1 0]\n",
      " ...\n",
      " [0 1 1 0]\n",
      " [0 0 1 0]\n",
      " [0 1 1 0]]\n"
     ]
    }
   ],
   "source": [
    "tags_treino_array = np.asarray(list(tags_treino))\n",
    "tags_teste_array = np.asarray(list(tags_teste))\n",
    "\n",
    "print(tags_treino_array)"
   ]
  },
  {
   "cell_type": "markdown",
   "metadata": {},
   "source": [
    "### Relevância binária"
   ]
  },
  {
   "cell_type": "code",
   "execution_count": 47,
   "metadata": {
    "ExecuteTime": {
     "end_time": "2021-02-05T12:39:37.132999Z",
     "start_time": "2021-02-05T12:39:36.320994Z"
    }
   },
   "outputs": [
    {
     "name": "stdout",
     "output_type": "stream",
     "text": [
      "Accuracy:  0.4343807763401109\n"
     ]
    }
   ],
   "source": [
    "from sklearn.feature_extraction.text import TfidfVectorizer\n",
    "from sklearn.pipeline import Pipeline\n",
    "from sklearn.multiclass import OneVsRestClassifier\n",
    "from sklearn.linear_model import LogisticRegression\n",
    "\n",
    "clf = Pipeline([\n",
    "    ('tfidf', TfidfVectorizer(max_features=5000, max_df=0.85, stop_words=stop_words)),\n",
    "    ('clf', OneVsRestClassifier(LogisticRegression(solver = 'lbfgs')))\n",
    "])\n",
    "\n",
    "clf.fit(perguntas_treino, tags_treino_array)\n",
    "print('Accuracy: ',clf.score(perguntas_teste, tags_teste_array))"
   ]
  },
  {
   "cell_type": "code",
   "execution_count": 48,
   "metadata": {
    "ExecuteTime": {
     "end_time": "2021-02-05T12:39:37.145530Z",
     "start_time": "2021-02-05T12:39:37.138530Z"
    }
   },
   "outputs": [
    {
     "name": "stdout",
     "output_type": "stream",
     "text": [
      "% escolha aleatória entre as possibilidades: 0.07692307692307693\n"
     ]
    }
   ],
   "source": [
    "len(perguntas['todas_tags'].unique())\n",
    "print(f'% escolha aleatória entre as possibilidades: {1/13}')"
   ]
  },
  {
   "cell_type": "markdown",
   "metadata": {},
   "source": [
    "<p align='justify'>Observando a acurácia do modelo, percebe-se que este está acertando, aproximadamente, 6x mais que uma escolha aleatória entre as 13 possibilidades.</p>"
   ]
  },
  {
   "cell_type": "markdown",
   "metadata": {},
   "source": [
    "### Hamming Loss"
   ]
  },
  {
   "cell_type": "code",
   "execution_count": 49,
   "metadata": {
    "ExecuteTime": {
     "end_time": "2021-02-05T12:39:37.594961Z",
     "start_time": "2021-02-05T12:39:37.149611Z"
    }
   },
   "outputs": [
    {
     "name": "stdout",
     "output_type": "stream",
     "text": [
      "Hamming Loss  0.18\n"
     ]
    }
   ],
   "source": [
    "from sklearn.metrics import hamming_loss\n",
    "\n",
    "pred = clf.predict(perguntas_teste)\n",
    "hamming_loss_onevsrest = hamming_loss(tags_teste_array, pred)\n",
    "print(\"Hamming Loss {0: .2f}\".format(hamming_loss_onevsrest))"
   ]
  },
  {
   "cell_type": "markdown",
   "metadata": {},
   "source": [
    "<p align='justify'>Isso indica que a cada 100 previsões, o modelo acertará 82% dos casos.</p>"
   ]
  },
  {
   "cell_type": "markdown",
   "metadata": {},
   "source": [
    "### Relevância binária com Com skmultilearn"
   ]
  },
  {
   "cell_type": "code",
   "execution_count": 50,
   "metadata": {
    "ExecuteTime": {
     "end_time": "2021-02-05T12:39:44.384291Z",
     "start_time": "2021-02-05T12:39:37.598781Z"
    }
   },
   "outputs": [
    {
     "name": "stdout",
     "output_type": "stream",
     "text": [
      "Accuracy:  0.4343807763401109\n",
      "Hamming Loss  0.18\n"
     ]
    }
   ],
   "source": [
    "from skmultilearn.problem_transform import BinaryRelevance\n",
    "\n",
    "br = Pipeline([\n",
    "    ('tfidf', TfidfVectorizer(max_features=5000, max_df=0.85, stop_words=stop_words)),\n",
    "    ('clf', BinaryRelevance(LogisticRegression(solver = 'lbfgs')))\n",
    "])\n",
    "\n",
    "br.fit(perguntas_treino, tags_treino_array)\n",
    "print('Accuracy: ', br.score(perguntas_teste, tags_teste_array))\n",
    "\n",
    "previsao_br = br.predict(perguntas_teste)\n",
    "hamming = hamming_loss(tags_teste_array, previsao_br)\n",
    "print(\"Hamming Loss {0: .2f}\".format(hamming))"
   ]
  },
  {
   "cell_type": "markdown",
   "metadata": {},
   "source": [
    "### Classificação em cadeia"
   ]
  },
  {
   "cell_type": "code",
   "execution_count": 51,
   "metadata": {
    "ExecuteTime": {
     "end_time": "2021-02-05T12:39:54.405527Z",
     "start_time": "2021-02-05T12:39:44.392535Z"
    }
   },
   "outputs": [
    {
     "name": "stdout",
     "output_type": "stream",
     "text": [
      "Accuracy:  0.5138632162661737\n",
      "Hamming Loss  0.20\n"
     ]
    }
   ],
   "source": [
    "from skmultilearn.problem_transform import ClassifierChain\n",
    "\n",
    "chain = Pipeline([\n",
    "    ('tfidf', TfidfVectorizer(max_features=5000, max_df=0.85, stop_words=stop_words)),\n",
    "    ('clf', ClassifierChain(LogisticRegression(solver = 'lbfgs')))\n",
    "])\n",
    "\n",
    "chain.fit(perguntas_treino, tags_treino_array)\n",
    "print('Accuracy: ', chain.score(perguntas_teste, tags_teste_array))\n",
    "\n",
    "previsao_cadeia = chain.predict(perguntas_teste)\n",
    "hamming = hamming_loss(tags_teste_array, previsao_cadeia)\n",
    "print(\"Hamming Loss {0: .2f}\".format(hamming))"
   ]
  },
  {
   "cell_type": "markdown",
   "metadata": {},
   "source": [
    "### MLkNN"
   ]
  },
  {
   "cell_type": "code",
   "execution_count": 52,
   "metadata": {
    "ExecuteTime": {
     "end_time": "2021-02-05T12:40:03.655244Z",
     "start_time": "2021-02-05T12:39:54.417823Z"
    }
   },
   "outputs": [
    {
     "name": "stdout",
     "output_type": "stream",
     "text": [
      "Accuracy:  0.34473197781885395\n",
      "Hamming Loss  0.24\n"
     ]
    }
   ],
   "source": [
    "from skmultilearn.adapt import MLkNN\n",
    "\n",
    "mlknn = Pipeline([\n",
    "    ('tfidf', TfidfVectorizer(max_features=5000, max_df=0.85, stop_words=stop_words)),\n",
    "    ('clf', MLkNN())\n",
    "])\n",
    "\n",
    "mlknn.fit(perguntas_treino, tags_treino_array)\n",
    "print('Accuracy: ', mlknn.score(perguntas_teste, tags_teste_array))\n",
    "\n",
    "previsao_mlknn = mlknn.predict(perguntas_teste)\n",
    "hamming = hamming_loss(tags_teste_array, previsao_mlknn)\n",
    "print(\"Hamming Loss {0: .2f}\".format(hamming))"
   ]
  },
  {
   "cell_type": "markdown",
   "metadata": {},
   "source": [
    "### Comparando os classificadores"
   ]
  },
  {
   "cell_type": "code",
   "execution_count": 54,
   "metadata": {
    "ExecuteTime": {
     "end_time": "2021-02-05T12:45:16.977206Z",
     "start_time": "2021-02-05T12:45:16.938549Z"
    }
   },
   "outputs": [
    {
     "data": {
      "text/html": [
       "<div>\n",
       "<style scoped>\n",
       "    .dataframe tbody tr th:only-of-type {\n",
       "        vertical-align: middle;\n",
       "    }\n",
       "\n",
       "    .dataframe tbody tr th {\n",
       "        vertical-align: top;\n",
       "    }\n",
       "\n",
       "    .dataframe thead th {\n",
       "        text-align: right;\n",
       "    }\n",
       "</style>\n",
       "<table border=\"1\" class=\"dataframe\">\n",
       "  <thead>\n",
       "    <tr style=\"text-align: right;\">\n",
       "      <th></th>\n",
       "      <th>perguntas</th>\n",
       "      <th>tags real</th>\n",
       "      <th>BR</th>\n",
       "      <th>cadeia</th>\n",
       "      <th>mlknn</th>\n",
       "    </tr>\n",
       "  </thead>\n",
       "  <tbody>\n",
       "    <tr>\n",
       "      <th>0</th>\n",
       "      <td>conflito code code alguem sabe alguma forma re...</td>\n",
       "      <td>(0, 1, 0, 0)</td>\n",
       "      <td>[0, 1, 0, 0]</td>\n",
       "      <td>[0.0, 1.0, 0.0, 0.0]</td>\n",
       "      <td>[0, 1, 0, 0]</td>\n",
       "    </tr>\n",
       "    <tr>\n",
       "      <th>1</th>\n",
       "      <td>fazendo site obrigado usar html css javascript...</td>\n",
       "      <td>(0, 0, 1, 0)</td>\n",
       "      <td>[0, 1, 1, 0]</td>\n",
       "      <td>[0.0, 1.0, 0.0, 0.0]</td>\n",
       "      <td>[0, 1, 0, 0]</td>\n",
       "    </tr>\n",
       "    <tr>\n",
       "      <th>2</th>\n",
       "      <td>recentemente fiz refactor codigo adotar padrao...</td>\n",
       "      <td>(1, 0, 0, 0)</td>\n",
       "      <td>[1, 0, 0, 0]</td>\n",
       "      <td>[1.0, 0.0, 0.0, 0.0]</td>\n",
       "      <td>[1, 0, 0, 0]</td>\n",
       "    </tr>\n",
       "    <tr>\n",
       "      <th>3</th>\n",
       "      <td>codigo code passo valores code utilizo codigo ...</td>\n",
       "      <td>(0, 1, 1, 0)</td>\n",
       "      <td>[0, 1, 0, 0]</td>\n",
       "      <td>[0.0, 1.0, 0.0, 0.0]</td>\n",
       "      <td>[0, 1, 1, 0]</td>\n",
       "    </tr>\n",
       "    <tr>\n",
       "      <th>4</th>\n",
       "      <td>ola funcao evento code deveria ativar marcar c...</td>\n",
       "      <td>(0, 1, 1, 0)</td>\n",
       "      <td>[0, 1, 0, 0]</td>\n",
       "      <td>[0.0, 1.0, 0.0, 0.0]</td>\n",
       "      <td>[0, 1, 1, 0]</td>\n",
       "    </tr>\n",
       "  </tbody>\n",
       "</table>\n",
       "</div>"
      ],
      "text/plain": [
       "                                           perguntas     tags real  \\\n",
       "0  conflito code code alguem sabe alguma forma re...  (0, 1, 0, 0)   \n",
       "1  fazendo site obrigado usar html css javascript...  (0, 0, 1, 0)   \n",
       "2  recentemente fiz refactor codigo adotar padrao...  (1, 0, 0, 0)   \n",
       "3  codigo code passo valores code utilizo codigo ...  (0, 1, 1, 0)   \n",
       "4  ola funcao evento code deveria ativar marcar c...  (0, 1, 1, 0)   \n",
       "\n",
       "             BR                cadeia         mlknn  \n",
       "0  [0, 1, 0, 0]  [0.0, 1.0, 0.0, 0.0]  [0, 1, 0, 0]  \n",
       "1  [0, 1, 1, 0]  [0.0, 1.0, 0.0, 0.0]  [0, 1, 0, 0]  \n",
       "2  [1, 0, 0, 0]  [1.0, 0.0, 0.0, 0.0]  [1, 0, 0, 0]  \n",
       "3  [0, 1, 0, 0]  [0.0, 1.0, 0.0, 0.0]  [0, 1, 1, 0]  \n",
       "4  [0, 1, 0, 0]  [0.0, 1.0, 0.0, 0.0]  [0, 1, 1, 0]  "
      ]
     },
     "execution_count": 54,
     "metadata": {},
     "output_type": "execute_result"
    }
   ],
   "source": [
    "resultados_classificacao = pd.DataFrame()\n",
    "resultados_classificacao['perguntas'] = perguntas_teste.values\n",
    "resultados_classificacao['tags real'] = list(tags_teste)\n",
    "resultados_classificacao['BR'] = list(previsao_br.toarray())\n",
    "resultados_classificacao['cadeia'] = list(previsao_cadeia.toarray())\n",
    "resultados_classificacao['mlknn'] = list(previsao_mlknn.toarray())\n",
    "resultados_classificacao.head()"
   ]
  }
 ],
 "metadata": {
  "hide_input": false,
  "kernelspec": {
   "display_name": "Python 3",
   "language": "python",
   "name": "python3"
  },
  "language_info": {
   "codemirror_mode": {
    "name": "ipython",
    "version": 3
   },
   "file_extension": ".py",
   "mimetype": "text/x-python",
   "name": "python",
   "nbconvert_exporter": "python",
   "pygments_lexer": "ipython3",
   "version": "3.7.5"
  },
  "toc": {
   "base_numbering": 1,
   "nav_menu": {},
   "number_sections": true,
   "sideBar": true,
   "skip_h1_title": false,
   "title_cell": "Table of Contents",
   "title_sidebar": "Contents",
   "toc_cell": false,
   "toc_position": {},
   "toc_section_display": true,
   "toc_window_display": false
  },
  "varInspector": {
   "cols": {
    "lenName": 16,
    "lenType": 16,
    "lenVar": 40
   },
   "kernels_config": {
    "python": {
     "delete_cmd_postfix": "",
     "delete_cmd_prefix": "del ",
     "library": "var_list.py",
     "varRefreshCmd": "print(var_dic_list())"
    },
    "r": {
     "delete_cmd_postfix": ") ",
     "delete_cmd_prefix": "rm(",
     "library": "var_list.r",
     "varRefreshCmd": "cat(var_dic_list()) "
    }
   },
   "types_to_exclude": [
    "module",
    "function",
    "builtin_function_or_method",
    "instance",
    "_Feature"
   ],
   "window_display": false
  }
 },
 "nbformat": 4,
 "nbformat_minor": 4
}
